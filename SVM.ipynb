{
 "metadata": {
  "name": "",
  "signature": "sha256:cb2a14209983c6af13d2daa59c5d85c2476a8bff61c02636285d9d6382306bab"
 },
 "nbformat": 3,
 "nbformat_minor": 0,
 "worksheets": [
  {
   "cells": [
    {
     "cell_type": "code",
     "collapsed": false,
     "input": [
      "import numpy as np\n",
      "import pylab as pl\n",
      "import string\n",
      "from sklearn.svm import SVR\n",
      "from sklearn.metrics import confusion_matrix\n",
      "from sklearn.metrics import mean_squared_error\n",
      "from sklearn.cross_validation import KFold\n",
      "from sklearn import svm\n",
      "%pylab inline"
     ],
     "language": "python",
     "metadata": {},
     "outputs": [
      {
       "output_type": "stream",
       "stream": "stdout",
       "text": [
        "Populating the interactive namespace from numpy and matplotlib\n"
       ]
      }
     ],
     "prompt_number": 1
    },
    {
     "cell_type": "code",
     "collapsed": false,
     "input": [
      "#Se importa el archivo de datos y se crea la matriz de factores y el vector de clases transformando las letras a un valor num\u00e9rico\n",
      "infile = open(\"letter-recognition.data\",'r')\n",
      "lineas=infile.readlines()\n",
      "numdatos=size(lineas)\n",
      "clases=list()\n",
      "datos=zeros([numdatos,16])\n",
      "for i in range(numdatos):\n",
      "    linea=lineas[i].rstrip().split(\",\")\n",
      "    clases.append(linea[0])\n",
      "    clases[i]=ord(clases[i])-64\n",
      "    datos[i]=array(linea[1:])\n",
      "clases=array(clases)"
     ],
     "language": "python",
     "metadata": {},
     "outputs": [],
     "prompt_number": 2
    },
    {
     "cell_type": "code",
     "collapsed": false,
     "input": [
      "#Se extrae una secci\u00f3n aleatoria de 80% de los datos\n",
      "numentre=numdatos*0.8\n",
      "ind_entre=array(np.random.permutation(numdatos)[:numentre])\n",
      "ind_prueba=array(list(set(arange(numdatos))-set(ind_entre)))\n",
      "datos_entre=datos[ind_entre]\n",
      "clases_entre=clases[ind_entre]\n",
      "datos_prueba=datos[ind_prueba]\n",
      "clases_prueba=clases[ind_prueba]\n",
      "\n",
      "#Se realiza el entrenamiento\n",
      "reg = svm.SVC(kernel=\"linear\")\n",
      "reg.fit(datos_entre, clases_entre)"
     ],
     "language": "python",
     "metadata": {},
     "outputs": [
      {
       "metadata": {},
       "output_type": "pyout",
       "prompt_number": 3,
       "text": [
        "SVC(C=1.0, cache_size=200, class_weight=None, coef0=0.0, degree=3, gamma=0.0,\n",
        "  kernel='linear', max_iter=-1, probability=False, random_state=None,\n",
        "  shrinking=True, tol=0.001, verbose=False)"
       ]
      }
     ],
     "prompt_number": 3
    },
    {
     "cell_type": "code",
     "collapsed": false,
     "input": [
      "#Se calcula una predicci\u00f3n sobre los datos de prueba\n",
      "prediccion=reg.predict(datos_prueba)"
     ],
     "language": "python",
     "metadata": {},
     "outputs": [],
     "prompt_number": 4
    },
    {
     "cell_type": "code",
     "collapsed": false,
     "input": [
      "#C\u00f3digo opcional para comprobar manualmente sobre el archivo de texto\n",
      "print(reg.predict(datos[16698])[0],ord('J')-64)"
     ],
     "language": "python",
     "metadata": {},
     "outputs": [
      {
       "output_type": "stream",
       "stream": "stdout",
       "text": [
        "(10, 10)\n"
       ]
      }
     ],
     "prompt_number": 5
    },
    {
     "cell_type": "code",
     "collapsed": false,
     "input": [
      "#Se halla la matriz de confusi\u00f3n a partir de los datos de prueba\n",
      "Matriz_conf=confusion_matrix(clases_prueba,prediccion)"
     ],
     "language": "python",
     "metadata": {},
     "outputs": [],
     "prompt_number": 6
    },
    {
     "cell_type": "code",
     "collapsed": false,
     "input": [
      "#Finalmente se grafica la matriz de confusi\u00f3n\n",
      "fig = figure()\n",
      "alpha=list(string.ascii_uppercase)\n",
      "ax = fig.add_subplot(111)\n",
      "cax = ax.matshow(Matriz_conf)\n",
      "fig.colorbar(cax)\n",
      "#ax.set_xticklabels(['']+alpha)\n",
      "#ax.set_yticklabels(['']+alpha)\n",
      "xticks(range(26),alpha)\n",
      "yticks(range(26),alpha)\n",
      "fig.set_size_inches(11,9)\n",
      "fig.savefig('matriz_confu.png',dpi=300)"
     ],
     "language": "python",
     "metadata": {},
     "outputs": [
      {
       "metadata": {},
       "output_type": "display_data",
       "png": "[encoded data removed]",
       "text": [
        "<matplotlib.figure.Figure at 0xae66b7ec>"
       ]
      }
     ],
     "prompt_number": 10
    },
    {
     "cell_type": "code",
     "collapsed": false,
     "input": [
      "reg2 = svm.SVC(kernel=\"rbf\")\n",
      "reg2.fit(datos_entre, clases_entre)\n",
      "prediccion2=reg2.predict(datos_prueba)\n",
      "Matriz_conf2=confusion_matrix(clases_prueba,prediccion2)"
     ],
     "language": "python",
     "metadata": {},
     "outputs": [],
     "prompt_number": 11
    },
    {
     "cell_type": "code",
     "collapsed": false,
     "input": [
      "fig2 = figure()\n",
      "alpha=list(string.ascii_uppercase)\n",
      "ax2 = fig2.add_subplot(111)\n",
      "cax2 = ax2.matshow(Matriz_conf2)\n",
      "fig2.colorbar(cax2)\n",
      "#ax.set_xticklabels(['']+alpha)\n",
      "#ax.set_yticklabels(['']+alpha)\n",
      "xticks(range(26),alpha)\n",
      "yticks(range(26),alpha)\n",
      "fig2.set_size_inches(11,9)\n",
      "fig2.savefig('matriz_confu2.png',dpi=300)"
     ],
     "language": "python",
     "metadata": {},
     "outputs": [
      {
       "metadata": {},
       "output_type": "display_data",
       "png": "[encoded data removed]",
       "text": [
        "<matplotlib.figure.Figure at 0xae5b368c>"
       ]
      }
     ],
     "prompt_number": 12
    },
    {
     "cell_type": "code",
     "collapsed": false,
     "input": [
      "reg?"
     ],
     "language": "python",
     "metadata": {},
     "outputs": [],
     "prompt_number": 17
    },
    {
     "cell_type": "code",
     "collapsed": false,
     "input": [],
     "language": "python",
     "metadata": {},
     "outputs": []
    }
   ],
   "metadata": {}
  }
 ]
}